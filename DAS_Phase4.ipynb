{
  "nbformat": 4,
  "nbformat_minor": 0,
  "metadata": {
    "colab": {
      "provenance": []
    },
    "kernelspec": {
      "name": "python3",
      "display_name": "Python 3"
    },
    "language_info": {
      "name": "python"
    }
  },
  "cells": [
    {
      "cell_type": "code",
      "execution_count": 15,
      "metadata": {
        "id": "Dn-8uYw62Bhw"
      },
      "outputs": [],
      "source": [
        "import numpy as np\n",
        "import pandas as pd\n",
        "import matplotlib.pyplot as plt\n",
        "public1 = pd.read_csv(\"public1.csv\")\n",
        "print(public1)\n"
      ]
    },
    {
      "cell_type": "code",
      "source": [
        "mean = np.mean(public1)\n",
        "mean"
      ],
      "metadata": {
        "id": "8cUNdunP8L_o"
      },
      "execution_count": 16,
      "outputs": []
    },
    {
      "cell_type": "code",
      "source": [
        "std_dev = np.std(public1)\n",
        "std_dev"
      ],
      "metadata": {
        "id": "YhPe1flr-GH-"
      },
      "execution_count": 17,
      "outputs": []
    },
    {
      "cell_type": "code",
      "source": [
        "from matplotlib import pyplot as plt\n",
        "x = mean\n",
        "y = std_dev\n",
        "plt.plot(mean,std_dev)\n",
        "plt.title(\"Line graph\")\n",
        "plt.ylabel('Y axis')\n",
        "plt.xlabel('X axis')\n",
        "plt.show()\n"
      ],
      "metadata": {
        "id": "FYr6v87_-I3J"
      },
      "execution_count": 20,
      "outputs": []
    },
    {
      "cell_type": "code",
      "source": [
        "total_cases = public1['cases'].sum()\n",
        "total_deaths = public1['deaths'].sum()\n",
        "labels = ['cases', 'deaths']\n",
        "sizes = [total_cases, total_deaths]\n",
        "colors = ['indigo', 'red']\n",
        "explode = (0.1, 0)\n",
        "plt.pie(sizes, explode=explode, labels=labels, colors=colors, autopct='%1.1f%%', startangle=140)\n",
        "plt.axis('equal')\n",
        "plt.title('Distribution of Transport Cases ')\n",
        "plt.show()\n",
        "\n"
      ],
      "metadata": {
        "id": "YQJQ7D4w-LrN"
      },
      "execution_count": 19,
      "outputs": []
    },
    {
      "cell_type": "code",
      "source": [
        "plt.bar(mean, std_dev, color=['blue', 'red'])\n",
        "plt.xlabel('mean')\n",
        "plt.ylabel('std_dev')\n",
        "plt.title('Mean and Standard Deviation')\n",
        "plt.show()"
      ],
      "metadata": {
        "id": "a-5E1zNn-O3L"
      },
      "execution_count": null,
      "outputs": []
    },
    {
      "cell_type": "code",
      "source": [
        "correlation = public1['cases'].corr(public1['deaths'])\n",
        "print(\"Correlation between Cases and Deaths:\", correlation)\n"
      ],
      "metadata": {
        "id": "f0HpIb1g-QsO"
      },
      "execution_count": null,
      "outputs": []
    },
    {
      "cell_type": "code",
      "source": [
        "public1['Cases_Variation'] = public1['cases'].pct_change() * 100\n",
        "public1['Deaths_Variation'] = public1['deaths'].pct_change() * 100\n",
        "print(public1[['Cases_Variation', 'Deaths_Variation']])"
      ],
      "metadata": {
        "id": "SawOnAsp-S1o"
      },
      "execution_count": null,
      "outputs": []
    }
  ]
}