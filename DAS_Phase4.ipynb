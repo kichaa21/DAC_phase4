{
  "nbformat": 4,
  "nbformat_minor": 0,
  "metadata": {
    "colab": {
      "provenance": []
    },
    "kernelspec": {
      "name": "python3",
      "display_name": "Python 3"
    },
    "language_info": {
      "name": "python"
    }
  },
  "cells": [
    {
      "cell_type": "code",
      "execution_count": null,
      "metadata": {
        "colab": {
          "base_uri": "https://localhost:8080/"
        },
        "id": "Dn-8uYw62Bhw",
        "outputId": "3bb8396a-0df1-45d0-d05b-8b30fc0e61f3"
      },
      "outputs": [
        {
          "output_type": "stream",
          "name": "stderr",
          "text": [
            "<ipython-input-4-ccf706e74790>:4: FutureWarning: The error_bad_lines argument has been deprecated and will be removed in a future version. Use on_bad_lines in the future.\n",
            "\n",
            "\n",
            "  public1 = pd.read_csv(\"public1.CSV\", error_bad_lines=False)\n",
            "<ipython-input-4-ccf706e74790>:4: DtypeWarning: Columns (1) have mixed types. Specify dtype option on import or set low_memory=False.\n",
            "  public1 = pd.read_csv(\"public1.CSV\", error_bad_lines=False)\n"
          ]
        },
        {
          "output_type": "stream",
          "name": "stdout",
          "text": [
            "         TripID RouteID  StopID                    StopName  \\\n",
            "0         23631     100   14156                181 Cross Rd   \n",
            "1         23631     100   14144                177 Cross Rd   \n",
            "2         23632     100   14132                175 Cross Rd   \n",
            "3         23633     100   12266  Zone A Arndale Interchange   \n",
            "4         23633     100   14147                178 Cross Rd   \n",
            "...         ...     ...     ...                         ...   \n",
            "1719046    6524    190B   13506              I1 Pulteney St   \n",
            "1719047    6524    190B   13858                  4 Unley Rd   \n",
            "1719048    6524    190B   16276          A3 King William Rd   \n",
            "1719049    6524    190B   13078           2 King William Rd   \n",
            "1719050    6524    190B   13441             G1 Wakefield St   \n",
            "\n",
            "               WeekBeginning  NumberOfBoardings  \n",
            "0        2013-06-30 00:00:00                  1  \n",
            "1        2013-06-30 00:00:00                  1  \n",
            "2        2013-06-30 00:00:00                  1  \n",
            "3        2013-06-30 00:00:00                  2  \n",
            "4        2013-06-30 00:00:00                  1  \n",
            "...                      ...                ...  \n",
            "1719046  2014-06-08 00:00:00                  5  \n",
            "1719047  2014-06-08 00:00:00                  1  \n",
            "1719048  2014-06-08 00:00:00                  4  \n",
            "1719049  2014-06-08 00:00:00                  4  \n",
            "1719050  2014-06-08 00:00:00                 13  \n",
            "\n",
            "[1719051 rows x 6 columns]\n"
          ]
        }
      ],
      "source": [
        "import numpy as np\n",
        "import pandas as pd\n",
        "import matplotlib.pyplot as plt\n",
        "public1 = pd.read_csv(\"public1.CSV\", error_bad_lines=False)\n",
        "print(public1)"
      ]
    },
    {
      "cell_type": "code",
      "source": [
        "mean = np.mean(public1)\n",
        "mean"
      ],
      "metadata": {
        "id": "8cUNdunP8L_o"
      },
      "execution_count": null,
      "outputs": []
    },
    {
      "cell_type": "code",
      "source": [
        "std_dev = np.std(public1)\n",
        "std_dev"
      ],
      "metadata": {
        "id": "YhPe1flr-GH-"
      },
      "execution_count": null,
      "outputs": []
    },
    {
      "cell_type": "code",
      "source": [
        "from matplotlib import pyplot as plt\n",
        "x = mean\n",
        "y = std_dev\n",
        "plt.plot(mean,std_dev)\n",
        "plt.title(\"Line graph\")\n",
        "plt.ylabel('Y axis')\n",
        "plt.xlabel('X axis')\n",
        "plt.show()\n"
      ],
      "metadata": {
        "id": "FYr6v87_-I3J"
      },
      "execution_count": null,
      "outputs": []
    },
    {
      "cell_type": "code",
      "source": [
        "total_cases = public1['cases'].sum()\n",
        "total_deaths = public1['deaths'].sum()\n",
        "labels = ['cases', 'deaths']\n",
        "sizes = [total_cases, total_deaths]\n",
        "colors = ['indigo', 'red']\n",
        "explode = (0.1, 0)\n",
        "plt.pie(sizes, explode=explode, labels=labels, colors=colors, autopct='%1.1f%%', startangle=140)\n",
        "plt.axis('equal')\n",
        "plt.title('Distribution of Transport Cases ')\n",
        "plt.show()\n",
        "\n"
      ],
      "metadata": {
        "id": "YQJQ7D4w-LrN"
      },
      "execution_count": null,
      "outputs": []
    },
    {
      "cell_type": "code",
      "source": [
        "plt.bar(mean, std_dev, color=['blue', 'red'])\n",
        "plt.xlabel('mean')\n",
        "plt.ylabel('std_dev')\n",
        "plt.title('Mean and Standard Deviation')\n",
        "plt.show()"
      ],
      "metadata": {
        "id": "a-5E1zNn-O3L"
      },
      "execution_count": null,
      "outputs": []
    },
    {
      "cell_type": "code",
      "source": [
        "correlation = public1['cases'].corr(public1['deaths'])\n",
        "print(\"Correlation between Cases and Deaths:\", correlation)\n"
      ],
      "metadata": {
        "id": "f0HpIb1g-QsO"
      },
      "execution_count": null,
      "outputs": []
    },
    {
      "cell_type": "code",
      "source": [
        "public1['Cases_Variation'] = public1['cases'].pct_change() * 100\n",
        "public1['Deaths_Variation'] = public1['deaths'].pct_change() * 100\n",
        "print(public1[['Cases_Variation', 'Deaths_Variation']])"
      ],
      "metadata": {
        "id": "SawOnAsp-S1o"
      },
      "execution_count": null,
      "outputs": []
    }
  ]
}